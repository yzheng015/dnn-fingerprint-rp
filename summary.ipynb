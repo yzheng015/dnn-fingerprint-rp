{
 "cells": [
  {
   "cell_type": "markdown",
   "metadata": {},
   "source": [
    "## Models used in the experiments"
   ]
  },
  {
   "cell_type": "code",
   "execution_count": 10,
   "metadata": {},
   "outputs": [],
   "source": [
    "import torch\n",
    "#from PyTorch_CIFAR10_master.cifar10_models import *\n",
    "import numpy as np\n",
    "from utility import *\n",
    "#from datetime import datetime\n",
    "#from scipy.fftpack import dct, idct\n",
    "import matplotlib.pyplot as plt\n",
    "import matplotlib.image as mpimg \n",
    "import csv\n",
    "import random\n",
    "\n",
    "# target models, positive suspect models, and negative suspect models\n",
    "names = ['target_c10', 'target_c100', 'target_i10', 'positive_c10_r20', 'positive_c10_v11', 'positive_c10_d161', \n",
    "         'positive_c100_r20', 'positive_c100_v11', 'positive_c100_d161', 'positive_i10_r18', 'positive_i10_v11', 'positive_i10_d161',\n",
    "         'negative_c10', 'negative_c100', 'negative_i10']\n",
    "models = retrieve('allmodels.txt', names)\n",
    "\n",
    "# cross application models\n",
    "CAM_names = ['c10_100_r20', 'c10_100_v11', 'c10_100_d161', 'c100_10_r20', 'c100_10_v11', 'c100_10_d161', 'i1000_10_r18', 'i1000_10_v11', 'i1000_10_d161']\n",
    "CAM_models = CAM_retrieve('cross_application_models.txt', CAM_names)\n",
    "\n",
    "# imagenet models \n",
    "import torchvision.models as imagenet_models\n",
    "imagenet_r18 = imagenet_models.resnet18(pretrained=True)\n",
    "imagenet_v11 = imagenet_models.vgg11(pretrained=True)\n",
    "imagenet_d161 = imagenet_models.densenet161(pretrained=True)\n",
    "\n",
    "# models used in major revision phase, v11_c100 and d161_c100 are fine-tuned models from v11_c10 and d161_c10 in original manuscript\n",
    "r18_c10 = models['negative_c10'][10]\n",
    "v11_c100_rq = '/mnt/ssd1/zhengyue/Models/Target_models/cifar100-vgg11-192-best.pth'\n",
    "d161_c100_rq = '/mnt/ssd1/zhengyue/Models/Target_models/cifar100-densenet161-183-best.pth'"
   ]
  },
  {
   "cell_type": "markdown",
   "metadata": {},
   "source": [
    "## Parameter setting"
   ]
  },
  {
   "cell_type": "code",
   "execution_count": 2,
   "metadata": {},
   "outputs": [],
   "source": [
    "l=1\n",
    "nl = 400\n",
    "a = 0.01 # SCA extraction precision\n",
    "\n",
    "# save the experiment results to this file\n",
    "#file_name = './experiment_results/major_revision/sca_weights_similarity_' + str(l) + 'layer_fixed_' + str(a) + '_'+ str(nl)+ 'nl.csv'\n",
    "out_rp = int(nl*0.5) # length of the DNN fingerprint (after random projection)\n",
    "\n",
    "if l ==3:\n",
    "    nl = 399\n",
    "    \n",
    "owner = owner_f(12345, nl, out_rp, 'bernoulli')"
   ]
  },
  {
   "cell_type": "markdown",
   "metadata": {},
   "source": [
    "## Same Application Scenarios"
   ]
  },
  {
   "cell_type": "code",
   "execution_count": 3,
   "metadata": {
    "collapsed": true
   },
   "outputs": [
    {
     "name": "stdout",
     "output_type": "stream",
     "text": [
      "===c10_r20===\n",
      "Correlation of Pirated models...\n",
      "Correlation: [1.0]\n",
      "Correlation: [1.0]\n",
      "Correlation: [0.999]\n",
      "Correlation: [0.996]\n",
      "Correlation: [0.985]\n",
      "Correlation: [0.975]\n",
      "Correlation: [0.959]\n",
      "Correlation: [0.94]\n",
      "Correlation: [0.917]\n",
      "Correlation: [0.889]\n",
      "Correlation: [0.847]\n",
      "Correlation: [1.0]\n",
      "Correlation: [0.999]\n",
      "Correlation: [0.999]\n",
      "Correlation: [0.999]\n",
      "Correlation: [0.999]\n",
      "Correlation: [0.998]\n",
      "Correlation: [0.996]\n",
      "Correlation: [0.992]\n",
      "Correlation: [0.98]\n",
      "Correlation of Innocent models...\n",
      "Correlation: [0.075]\n",
      "Correlation: [0.045]\n",
      "Correlation: [-0.049]\n",
      "Correlation: [0.076]\n",
      "Correlation: [0.034]\n",
      "Correlation: [0.195]\n",
      "Correlation: [-0.187]\n",
      "Correlation: [0.043]\n",
      "Correlation: [0.008]\n",
      "Correlation: [0.252]\n",
      "Correlation: [-0.21]\n",
      "Correlation: [-0.036]\n",
      "Correlation: [0.072]\n"
     ]
    }
   ],
   "source": [
    "# from pytorch_resnet_cifar10_master import resnet \n",
    "#path = '/mnt/ssd1/zhengyue/Models/pytorch_resnet_cifar10_master/save_resnet20/checkpoint.th'\n",
    "# path = models['target_c10'][0]\n",
    "# checkpoint = torch.load(path)\n",
    "# model = torch.nn.DataParallel(resnet.__dict__['resnet20']())\n",
    "# model.cuda()\n",
    "# model.load_state_dict(checkpoint['state_dict'])\n",
    "\n",
    "print('===c10_r20===')\n",
    "target = torch.load(models['target_c10'][0])['state_dict']\n",
    "positive_models = models['positive_c10_r20']\n",
    "print('Correlation of Pirated models...')\n",
    "for i in range(len(positive_models)):\n",
    "    pm_0 = positive_models[i]\n",
    "    pm = torch.load(pm_0)['model_state_dict']\n",
    "    CAM_similarity(target, pm, owner,owner, True, True, nl,l,a)\n",
    "print('Correlation of Innocent models...')\n",
    "negative_models = models['negative_c10']\n",
    "for i in range(len(negative_models)):\n",
    "    nm = negative_models[i]\n",
    "    CAM_similarity(target, nm, owner,owner, True, True, nl,l,a)\n",
    "\n",
    "# print('===c10_r20===')\n",
    "# target = models['target_c10'][0]\n",
    "# positive_models = models['positive_c10_r20']\n",
    "# print('Correlation of Pirated models...')\n",
    "# for i in range(len(positive_models)):\n",
    "#     pm = positive_models[i]\n",
    "#     CAM_similarity(target, pm, owner,owner, True, True, nl,l,a)\n",
    "# print('Correlation of Innocent models...')\n",
    "# negative_models = models['negative_c10']\n",
    "# for i in range(len(negative_models)):\n",
    "#     nm = negative_models[i]\n",
    "#     CAM_similarity(target, nm, owner,owner, True, True, nl,l,a)"
   ]
  },
  {
   "cell_type": "code",
   "execution_count": null,
   "metadata": {},
   "outputs": [],
   "source": []
  },
  {
   "cell_type": "code",
   "execution_count": 12,
   "metadata": {
    "collapsed": true
   },
   "outputs": [
    {
     "name": "stdout",
     "output_type": "stream",
     "text": [
      "===c10_v11===\n",
      "Correlation of Innocent models...\n",
      "Correlation: [-0.056]\n",
      "Correlation: [-0.054]\n",
      "Correlation: [-0.129]\n",
      "Correlation: [-0.002]\n",
      "Correlation: [-0.032]\n",
      "Correlation: [0.022]\n",
      "Correlation: [-0.036]\n",
      "Correlation: [-0.068]\n",
      "Correlation: [-0.018]\n",
      "Correlation: [0.02]\n",
      "Correlation: [0.117]\n",
      "Correlation: [0.009]\n"
     ]
    }
   ],
   "source": [
    "print('===c10_v11===')\n",
    "target = models['target_c10'][1]\n",
    "positive_models = models['positive_c10_v11']\n",
    "print('Correlation of Pirated models...')\n",
    "for i in range(len(positive_models)):\n",
    "    pm = positive_models[i]\n",
    "#     pm = torch.load(pm_0)\n",
    "    CAM_similarity(target, pm, owner,owner, True, False, nl,l,a)\n",
    "print('Correlation of Innocent models...')\n",
    "negative_models = models['negative_c10']\n",
    "# should remove vgg11, this is the same model as the target one\n",
    "for i in range(len(negative_models)):\n",
    "    nm = negative_models[i]\n",
    "    CAM_similarity(target, nm, owner,owner, True, True, nl,l,a)"
   ]
  },
  {
   "cell_type": "code",
   "execution_count": 13,
   "metadata": {
    "collapsed": true
   },
   "outputs": [
    {
     "name": "stdout",
     "output_type": "stream",
     "text": [
      "===c10_d161===\n",
      "Correlation of Pirated models...\n",
      "Correlation: [0.966]\n",
      "Correlation: [0.974]\n",
      "Correlation: [0.982]\n",
      "Correlation: [0.983]\n",
      "Correlation: [0.982]\n",
      "Correlation: [0.984]\n",
      "Correlation: [0.982]\n",
      "Correlation: [0.981]\n",
      "Correlation: [0.966]\n",
      "Correlation: [0.966]\n",
      "Correlation: [0.943]\n",
      "Correlation: [0.982]\n",
      "Correlation: [0.98]\n",
      "Correlation: [0.983]\n",
      "Correlation: [0.981]\n",
      "Correlation: [0.979]\n",
      "Correlation: [0.982]\n",
      "Correlation: [0.983]\n",
      "Correlation: [0.984]\n",
      "Correlation: [0.986]\n",
      "Correlation of Innocent models...\n",
      "Correlation: [0.086]\n",
      "Correlation: [0.088]\n",
      "Correlation: [0.069]\n",
      "Correlation: [-0.064]\n",
      "Correlation: [-0.152]\n",
      "Correlation: [0.115]\n",
      "Correlation: [0.06]\n",
      "Correlation: [-0.062]\n",
      "Correlation: [-0.028]\n",
      "Correlation: [-0.123]\n",
      "Correlation: [0.088]\n"
     ]
    }
   ],
   "source": [
    "print('===c10_d161===')\n",
    "target = models['target_c10'][2]\n",
    "positive_models = models['positive_c10_d161']\n",
    "print('Correlation of Pirated models...')\n",
    "for i in range(len(positive_models)):\n",
    "    pm = positive_models[i]\n",
    "#     pm = torch.load(pm_0)\n",
    "    CAM_similarity(target, pm, owner,owner, True, False, nl,l,a)\n",
    "print('Correlation of Innocent models...')\n",
    "negative_models = models['negative_c10']\n",
    "# should remove d161, this is the same model as the target one\n",
    "for i in range(len(negative_models)):\n",
    "    nm = negative_models[i]\n",
    "    CAM_similarity(target, nm, owner,owner, True, True, nl,l,a)"
   ]
  },
  {
   "cell_type": "code",
   "execution_count": 18,
   "metadata": {
    "collapsed": true
   },
   "outputs": [
    {
     "name": "stdout",
     "output_type": "stream",
     "text": [
      "===c100_r20===\n",
      "Correlation of Pirated models...\n",
      "Correlation: [1.0]\n",
      "Correlation: [1.0]\n",
      "Correlation: [0.99]\n",
      "Correlation: [0.981]\n",
      "Correlation: [1.0]\n",
      "Correlation: [1.0]\n",
      "Correlation: [1.0]\n",
      "Correlation: [0.999]\n",
      "Correlation: [0.998]\n",
      "Correlation: [0.997]\n",
      "Correlation of Innocent models...\n",
      "Correlation: [-0.158]\n",
      "Correlation: [0.186]\n",
      "Correlation: [-0.002]\n",
      "Correlation: [-0.016]\n",
      "Correlation: [0.195]\n",
      "Correlation: [-0.039]\n",
      "Correlation: [-0.077]\n",
      "Correlation: [-0.169]\n"
     ]
    }
   ],
   "source": [
    "print('===c100_r20===')\n",
    "target = models['target_c100'][0]\n",
    "positive_models = models['positive_c100_r20']\n",
    "print('Correlation of Pirated models...')\n",
    "for i in range(len(positive_models)):\n",
    "    pm = positive_models[i]\n",
    "#     pm = torch.load(pm_0)\n",
    "    CAM_similarity(target, pm, owner,owner, True, False, nl,l,a)\n",
    "print('Correlation of Innocent models...')\n",
    "negative_models = models['negative_c100']\n",
    "for i in range(len(negative_models)):\n",
    "    nm = negative_models[i]\n",
    "    CAM_similarity(target, nm, owner,owner, True, False, nl,l,a)"
   ]
  },
  {
   "cell_type": "code",
   "execution_count": 19,
   "metadata": {
    "collapsed": true
   },
   "outputs": [
    {
     "name": "stdout",
     "output_type": "stream",
     "text": [
      "===c100_v11===\n",
      "Correlation of Pirated models...\n",
      "Correlation: [1.0]\n",
      "Correlation: [0.999]\n",
      "Correlation: [0.999]\n",
      "Correlation: [0.997]\n",
      "Correlation: [0.984]\n",
      "Correlation: [0.971]\n",
      "Correlation: [0.954]\n",
      "Correlation: [0.929]\n",
      "Correlation: [0.999]\n",
      "Correlation: [1.0]\n",
      "Correlation: [0.999]\n",
      "Correlation: [0.999]\n",
      "Correlation: [1.0]\n",
      "Correlation: [1.0]\n",
      "Correlation: [0.999]\n",
      "Correlation: [0.999]\n",
      "Correlation: [0.999]\n",
      "Correlation of Innocent models...\n",
      "Correlation: [-0.094]\n",
      "Correlation: [-0.14]\n",
      "Correlation: [0.035]\n",
      "Correlation: [-0.044]\n",
      "Correlation: [0.116]\n",
      "Correlation: [-0.102]\n",
      "Correlation: [-0.07]\n",
      "Correlation: [-0.139]\n"
     ]
    }
   ],
   "source": [
    "print('===c100_v11===')\n",
    "target = models['target_c100'][1]\n",
    "positive_models = models['positive_c100_v11']\n",
    "print('Correlation of Pirated models...')\n",
    "for i in range(len(positive_models)):\n",
    "    pm = positive_models[i]\n",
    "#     pm = torch.load(pm_0)\n",
    "    CAM_similarity(target, pm, owner,owner, False, False, nl,l,a)\n",
    "print('Correlation of Innocent models...')\n",
    "negative_models = models['negative_c100']\n",
    "for i in range(len(negative_models)):\n",
    "    nm = negative_models[i]\n",
    "    CAM_similarity(target, nm, owner,owner, False, False, nl,l,a)"
   ]
  },
  {
   "cell_type": "code",
   "execution_count": 20,
   "metadata": {
    "collapsed": true
   },
   "outputs": [
    {
     "name": "stdout",
     "output_type": "stream",
     "text": [
      "===c100_d161===\n",
      "Correlation of Pirated models...\n",
      "Correlation: [1.0]\n",
      "Correlation: [1.0]\n",
      "Correlation: [0.999]\n",
      "Correlation: [0.999]\n",
      "Correlation: [0.999]\n",
      "Correlation: [0.999]\n",
      "Correlation: [0.999]\n",
      "Correlation: [0.992]\n",
      "Correlation: [0.992]\n",
      "Correlation: [0.975]\n",
      "Correlation: [0.999]\n",
      "Correlation: [1.0]\n",
      "Correlation: [0.999]\n",
      "Correlation: [1.0]\n",
      "Correlation: [0.999]\n",
      "Correlation: [0.999]\n",
      "Correlation: [0.999]\n",
      "Correlation: [0.999]\n",
      "Correlation: [0.999]\n",
      "Correlation of Innocent models...\n",
      "Correlation: [-0.049]\n",
      "Correlation: [0.036]\n",
      "Correlation: [0.097]\n",
      "Correlation: [0.036]\n",
      "Correlation: [-0.233]\n",
      "Correlation: [-0.021]\n",
      "Correlation: [0.021]\n",
      "Correlation: [-0.017]\n"
     ]
    }
   ],
   "source": [
    "print('===c100_d161===')\n",
    "target = models['target_c100'][2]\n",
    "positive_models = models['positive_c100_d161']\n",
    "print('Correlation of Pirated models...')\n",
    "for i in range(len(positive_models)):\n",
    "    pm = positive_models[i]\n",
    "#     pm = torch.load(pm_0)\n",
    "    CAM_similarity(target, pm, owner,owner, False, False, nl,l,a)\n",
    "print('Correlation of Innocent models...')\n",
    "negative_models = models['negative_c100']\n",
    "for i in range(len(negative_models)):\n",
    "    nm = negative_models[i]\n",
    "    CAM_similarity(target, nm, owner,owner, False, False, nl,l,a)"
   ]
  },
  {
   "cell_type": "code",
   "execution_count": 21,
   "metadata": {
    "collapsed": true
   },
   "outputs": [
    {
     "name": "stdout",
     "output_type": "stream",
     "text": [
      "===i10_r18===\n",
      "Correlation of Pirated models...\n",
      "Correlation: [0.997]\n",
      "Correlation: [0.997]\n",
      "Correlation: [0.998]\n",
      "Correlation: [0.998]\n",
      "Correlation: [0.997]\n",
      "Correlation: [0.998]\n",
      "Correlation: [0.997]\n",
      "Correlation of Innocent models...\n",
      "Correlation: [0.048]\n",
      "Correlation: [-0.082]\n",
      "Correlation: [0.028]\n",
      "Correlation: [-0.177]\n",
      "Correlation: [-0.003]\n",
      "Correlation: [0.008]\n",
      "Correlation: [0.095]\n",
      "Correlation: [0.146]\n",
      "Correlation: [-0.218]\n"
     ]
    }
   ],
   "source": [
    "print('===i10_r18===')\n",
    "target = models['target_i10'][0]\n",
    "positive_models = models['positive_i10_r18']\n",
    "print('Correlation of Pirated models...')\n",
    "for i in range(len(positive_models)):\n",
    "    pm = positive_models[i]\n",
    "#     pm = torch.load(pm_0)\n",
    "    CAM_similarity(target, pm, owner,owner, False, False, nl,l,a)\n",
    "print('Correlation of Innocent models...')\n",
    "negative_models = models['negative_i10']\n",
    "for i in range(len(negative_models)):\n",
    "    nm = negative_models[i]\n",
    "    CAM_similarity(target, nm, owner,owner, False, False, nl,l,a)"
   ]
  },
  {
   "cell_type": "code",
   "execution_count": 22,
   "metadata": {
    "collapsed": true
   },
   "outputs": [
    {
     "name": "stdout",
     "output_type": "stream",
     "text": [
      "===i10_v11===\n",
      "Correlation of Pirated models...\n",
      "Correlation: [1.0]\n",
      "Correlation: [0.996]\n",
      "Correlation: [0.997]\n",
      "Correlation: [0.997]\n",
      "Correlation: [0.992]\n",
      "Correlation: [0.985]\n",
      "Correlation: [0.979]\n",
      "Correlation: [0.978]\n",
      "Correlation: [0.968]\n",
      "Correlation: [0.946]\n",
      "Correlation: [0.92]\n",
      "Correlation: [0.997]\n",
      "Correlation: [0.997]\n",
      "Correlation: [0.997]\n",
      "Correlation: [0.997]\n",
      "Correlation: [0.997]\n",
      "Correlation: [0.997]\n",
      "Correlation: [0.997]\n",
      "Correlation: [0.997]\n",
      "Correlation: [0.997]\n",
      "Correlation of Innocent models...\n",
      "Correlation: [0.105]\n",
      "Correlation: [0.031]\n",
      "Correlation: [-0.087]\n",
      "Correlation: [0.106]\n",
      "Correlation: [-0.064]\n",
      "Correlation: [0.007]\n",
      "Correlation: [0.213]\n",
      "Correlation: [0.249]\n",
      "Correlation: [-0.067]\n"
     ]
    }
   ],
   "source": [
    "print('===i10_v11===')\n",
    "target = models['target_i10'][1]\n",
    "positive_models = models['positive_i10_v11']\n",
    "print('Correlation of Pirated models...')\n",
    "for i in range(len(positive_models)):\n",
    "    pm = positive_models[i]\n",
    "#     pm = torch.load(pm_0)\n",
    "    CAM_similarity(target, pm, owner,owner, False, False, nl,l,a)\n",
    "print('Correlation of Innocent models...')\n",
    "negative_models = models['negative_i10']\n",
    "for i in range(len(negative_models)):\n",
    "    nm = negative_models[i]\n",
    "    CAM_similarity(target, nm, owner,owner, False, False, nl,l,a)"
   ]
  },
  {
   "cell_type": "code",
   "execution_count": 24,
   "metadata": {
    "collapsed": true
   },
   "outputs": [
    {
     "name": "stdout",
     "output_type": "stream",
     "text": [
      "===i10_d161===\n",
      "Correlation of Pirated models...\n",
      "Correlation: [0.997]\n",
      "Correlation: [0.997]\n",
      "Correlation: [0.994]\n",
      "Correlation: [0.996]\n",
      "Correlation: [0.994]\n",
      "Correlation: [0.996]\n",
      "Correlation: [0.993]\n",
      "Correlation: [0.992]\n",
      "Correlation: [0.993]\n",
      "Correlation: [0.991]\n",
      "Correlation: [0.981]\n",
      "Correlation: [0.995]\n",
      "Correlation: [0.995]\n",
      "Correlation: [0.993]\n",
      "Correlation: [0.994]\n",
      "Correlation: [0.996]\n",
      "Correlation: [0.996]\n",
      "Correlation: [0.994]\n",
      "Correlation: [0.996]\n",
      "Correlation: [0.995]\n",
      "Correlation of Innocent models...\n",
      "Correlation: [-0.4]\n",
      "Correlation: [-0.046]\n",
      "Correlation: [0.02]\n",
      "Correlation: [0.01]\n",
      "Correlation: [0.047]\n",
      "Correlation: [0.071]\n",
      "Correlation: [-0.142]\n",
      "Correlation: [-0.19]\n",
      "Correlation: [-0.02]\n"
     ]
    }
   ],
   "source": [
    "print('===i10_d161===')\n",
    "target = models['target_i10'][2]\n",
    "positive_models = models['positive_i10_d161']\n",
    "print('Correlation of Pirated models...')\n",
    "for i in range(len(positive_models)):\n",
    "    pm = positive_models[i]\n",
    "#     pm = torch.load(pm_0)\n",
    "    CAM_similarity(target, pm, owner,owner, False, False, nl,l,a)\n",
    "print('Correlation of Innocent models...')\n",
    "negative_models = models['negative_i10']\n",
    "for i in range(len(negative_models)):\n",
    "    nm = negative_models[i]\n",
    "    CAM_similarity(target, nm, owner,owner, False, False, nl,l,a)"
   ]
  },
  {
   "cell_type": "markdown",
   "metadata": {},
   "source": [
    "## Different Application Scenarios, pirated models obtained by fine tuning"
   ]
  },
  {
   "cell_type": "code",
   "execution_count": 30,
   "metadata": {},
   "outputs": [
    {
     "name": "stdout",
     "output_type": "stream",
     "text": [
      "=============ResNet20, c10 to c100=====================\n",
      "Correlation: [0.991]\n",
      "=============VGG11, c10 to c100=====================\n",
      "Correlation: [0.919]\n",
      "=============DenseNet161, c10 to c100=====================\n",
      "Correlation: [0.918]\n",
      "=============c100 to c10, ResNet20 =====================\n",
      "Correlation: [0.998]\n",
      "=============c100 to c10, VGG11 =====================\n",
      "Correlation: [0.999]\n",
      "=============c100 to c10, DenseNet161 =====================\n",
      "Correlation: [0.999]\n",
      "============ imagenet to i10, ResNet18 =====================\n",
      "Correlation: [0.997]\n",
      "============= imagenet to i10, VGG11 =====================\n",
      "Correlation: [1.0]\n",
      "============= imagenet to i10, DenseNet161 =====================\n",
      "Correlation: [0.995]\n"
     ]
    }
   ],
   "source": [
    "# Across application performance test\n",
    "print('=============ResNet20, c10 to c100=====================')\n",
    "# target = models['target_c10'][0]\n",
    "target = '/mnt/ssd1/zhengyue/Models/Target_models/replaced_models/Target_models/cifar10-resnet20-30abc31d.pth'\n",
    "pm = CAM_models['c10_100_r20']\n",
    "CAM_similarity(target, pm, owner,owner,True, False, nl,l,a)\n",
    "print('=============VGG11, c10 to c100=====================')\n",
    "target = models['target_c10'][1]\n",
    "nm = CAM_models['c10_100_v11']\n",
    "CAM_similarity(target, nm, owner,owner,True, False, nl,l,a)\n",
    "print('=============DenseNet161, c10 to c100=====================')\n",
    "target = models['target_c10'][2]\n",
    "nm = CAM_models['c10_100_d161']\n",
    "CAM_similarity(target, nm, owner,owner, True, False, nl,l,a)\n",
    "\n",
    "\n",
    "print('=============c100 to c10, ResNet20 =====================')\n",
    "source = models['target_c100'][0]\n",
    "ft = CAM_models['c100_10_r20']\n",
    "CAM_similarity(source, ft, owner,owner, True, False, nl,l,a)\n",
    "\n",
    "print('=============c100 to c10, VGG11 =====================')\n",
    "source = models['target_c100'][1]\n",
    "ft = CAM_models['c100_10_v11']\n",
    "CAM_similarity(source, ft, owner,owner, False, False, nl,l,a)\n",
    "\n",
    "print('=============c100 to c10, DenseNet161 =====================')\n",
    "source = models['target_c100'][2]\n",
    "ft = CAM_models['c100_10_d161']\n",
    "CAM_similarity(source, ft, owner,owner, False, False, nl,l,a)\n",
    "\n",
    "import torchvision.models as imagenet_models\n",
    "imagenet_r18 = imagenet_models.resnet18(pretrained=True)\n",
    "imagenet_v11 = imagenet_models.vgg11(pretrained=True)\n",
    "imagenet_d161 = imagenet_models.densenet161(pretrained=True)\n",
    "\n",
    "print('============ imagenet to i10, ResNet18 =====================')\n",
    "source = imagenet_r18\n",
    "ft = CAM_models['i1000_10_r18']\n",
    "CAM_similarity(source, ft,  owner,owner, False, False, nl,l,a)\n",
    "\n",
    "print('============= imagenet to i10, VGG11 =====================')\n",
    "source = imagenet_v11\n",
    "ft = CAM_models['i1000_10_v11']\n",
    "CAM_similarity(source, ft,  owner,owner, False, False, nl,l,a)\n",
    "\n",
    "print('============= imagenet to i10, DenseNet161 =====================')\n",
    "source = imagenet_d161\n",
    "ft = CAM_models['i1000_10_d161']\n",
    "CAM_similarity(source, ft,  owner,owner, False, False, nl,l,a)"
   ]
  },
  {
   "cell_type": "markdown",
   "metadata": {},
   "source": [
    "## Different application scenarios, same-architecture innocent models"
   ]
  },
  {
   "cell_type": "code",
   "execution_count": 9,
   "metadata": {},
   "outputs": [
    {
     "name": "stdout",
     "output_type": "stream",
     "text": [
      "the target model is the cifar10-resnet20 model used in the revised manuscript!\n",
      "Correlation: [-0.263]\n",
      "Correlation: [-0.075]\n",
      "Correlation: [-0.008]\n"
     ]
    }
   ],
   "source": [
    "target = models['target_c10'][0] # r20_c10\n",
    "# r20_c10_pretrained = '/mnt/ssd1/zhengyue/Models/Target_models/models_major_revision/r20_c10_pretrained.pth'\n",
    "# r20_c10_pretrained = '/mnt/ssd1/zhengyue/Models/Target_models/cifar10_resnet20_checkpoint.th'\n",
    "# target=r20_c10_pretrained\n",
    "pm = models['target_c100'][0] # r20_c100\n",
    "CAM_similarity(target, pm, owner,owner, True, True, nl,l,a)\n",
    "\n",
    "v11_c100_rq = '/mnt/ssd1/zhengyue/Models/Target_models/cifar100-vgg11-192-best.pth'\n",
    "target = models['target_c10'][1] # v11_c10\n",
    "pm = v11_c100_rq # v11_c100_pretrained\n",
    "CAM_similarity(target, pm, owner,owner, True, True, nl,l,a)\n",
    "\n",
    "d161_c100_rq = '/mnt/ssd1/zhengyue/Models/Target_models/cifar100-densenet161-183-best.pth'\n",
    "target = models['target_c10'][2] # d161_c10\n",
    "pm = d161_c100_rq # d161_c100_pretrained\n",
    "CAM_similarity(target, pm, owner,owner, True, True, nl,l,a)"
   ]
  },
  {
   "cell_type": "code",
   "execution_count": 8,
   "metadata": {},
   "outputs": [
    {
     "name": "stdout",
     "output_type": "stream",
     "text": [
      "the suspect model is the cifar10-resnet20 model used in the revised manuscript!\n",
      "Correlation: [-0.261]\n",
      "Correlation: [0.206]\n",
      "Correlation: [-0.016]\n"
     ]
    }
   ],
   "source": [
    "target = models['target_c100'][0] #r20_c100\n",
    "# target = '/mnt/ssd1/zhengyue/Models/Target_models/replaced_models/Target_models/cifar10-resnet20-30abc31d.pth'\n",
    "# pm = models['target_c10'][0] #r20_c10\n",
    "pm = models['target_c10'][0]\n",
    "CAM_similarity(target, pm, owner,owner, True, True, nl,l,a)\n",
    "target = v11_c100_rq\n",
    "CAM_similarity(target, imagenet_v11, owner,owner, True, False, nl,l,a)\n",
    "target = v11_c100_rq\n",
    "CAM_similarity(target, imagenet_d161, owner,owner, True, False, nl,l,a)"
   ]
  },
  {
   "cell_type": "code",
   "execution_count": 13,
   "metadata": {},
   "outputs": [
    {
     "name": "stdout",
     "output_type": "stream",
     "text": [
      "Correlation: [-0.177]\n",
      "Correlation: [-0.054]\n",
      "Correlation: [-0.101]\n"
     ]
    }
   ],
   "source": [
    "CAM_similarity(imagenet_r18, r18_c10, owner,owner,False, True, nl,l,a)\n",
    "CAM_similarity(imagenet_v11, models['target_c10'][1], owner,owner,False, True, nl,l,a)\n",
    "CAM_similarity(imagenet_d161, models['target_c10'][2], owner,owner,False, True, nl,l,a)"
   ]
  },
  {
   "cell_type": "markdown",
   "metadata": {},
   "source": [
    "## Irrovocability test"
   ]
  },
  {
   "cell_type": "code",
   "execution_count": 15,
   "metadata": {},
   "outputs": [],
   "source": [
    "fp = True # True: filter pruning; False: weight pruning"
   ]
  },
  {
   "cell_type": "code",
   "execution_count": 17,
   "metadata": {},
   "outputs": [
    {
     "name": "stdout",
     "output_type": "stream",
     "text": [
      "the target model is the cifar10-resnet20 model used in the revised manuscript!\n",
      "the suspect model is the cifar10-resnet20 model used in the revised manuscript!\n",
      "Correlation: [0.573]\n"
     ]
    }
   ],
   "source": [
    "# r20_c10_rq = '/mnt/ssd1/zhengyue/Models/pytorch_resnet_cifar10_master/save_resnet20/checkpoint.th'\n",
    "# target = torch.load(r20_c10_rq) # c10_r20\n",
    "target = models['target_c10'][0]\n",
    "if fp:\n",
    "    test = './major_revision/saved_models/cifar10_resnet20_fp/fp12_checkpoint_0_99.pth' \n",
    "else:\n",
    "    test = './major_revision/saved_models/cifar10_resnet20_wp/wp9_checkpoint_0_99.pth' \n",
    "\n",
    "CAM_similarity(target, test, owner,owner,True, True, nl,l,a)"
   ]
  },
  {
   "cell_type": "code",
   "execution_count": 19,
   "metadata": {},
   "outputs": [
    {
     "name": "stdout",
     "output_type": "stream",
     "text": [
      "Correlation: [0.533]\n"
     ]
    }
   ],
   "source": [
    "target = models['target_c10'][1] #c10_v11\n",
    "if fp:\n",
    "    test = './major_revision/saved_models/cifar10_vgg11_fp/fp12_model_0_99.pth' \n",
    "else:\n",
    "    test = './major_revision/saved_models/cifar10_vgg11_wp/wp9_model_0_99.pth' \n",
    "CAM_similarity(target, test, owner,owner,True, False, nl,l,a)"
   ]
  },
  {
   "cell_type": "code",
   "execution_count": 20,
   "metadata": {},
   "outputs": [
    {
     "name": "stdout",
     "output_type": "stream",
     "text": [
      "Correlation: [0.526]\n"
     ]
    }
   ],
   "source": [
    "target = models['target_c10'][2] #c10_d161\n",
    "\n",
    "if fp:\n",
    "    test = './major_revision/saved_models/cifar10_densenet161_fp/fp13_model_0_99.pth' \n",
    "else:\n",
    "    test = './major_revision/saved_models/cifar10_densenet161_wp/wp9_model_0_99.pth' \n",
    "\n",
    "CAM_similarity(target, test, owner,owner,True, False, nl,l,a)"
   ]
  },
  {
   "cell_type": "code",
   "execution_count": 32,
   "metadata": {},
   "outputs": [
    {
     "name": "stdout",
     "output_type": "stream",
     "text": [
      "Correlation: [0.478]\n"
     ]
    }
   ],
   "source": [
    "target = models['target_c100'][0] #c100_r20\n",
    "\n",
    "if fp:\n",
    "    test = './major_revision/saved_models/cifar100_resnet20_fp/fp11_model_0_99.pth' \n",
    "else:\n",
    "    test = './major_revision/saved_models/cifar100_resnet20_wp/wp9_model_0_99.pth' \n",
    "\n",
    "CAM_similarity(target, test, owner,owner,True, False, nl,l,a)"
   ]
  },
  {
   "cell_type": "code",
   "execution_count": 35,
   "metadata": {},
   "outputs": [
    {
     "name": "stdout",
     "output_type": "stream",
     "text": [
      "Correlation: [0.463]\n"
     ]
    }
   ],
   "source": [
    "import sys\n",
    "sys.path.append('/mnt/ssd1/zhengyue/Models/pytorch-cifar100-master')\n",
    "\n",
    "# vgg11_cifar100, densenet161_cifar100, revised manuscript\n",
    "v11_c100_rq_path = '/mnt/ssd1/zhengyue/Models/Target_models/cifar100-vgg11-192-best.pth'\n",
    "\n",
    "from models.vgg import vgg11_bn\n",
    "v11_c100_rq = vgg11_bn()\n",
    "v11_c100_rq.load_state_dict(torch.load(v11_c100_rq_path)) # c100_v11\n",
    "\n",
    "if fp:\n",
    "    test = './major_revision/saved_models/cifar100_vgg11_fp/fp13_model_0_99.pth' \n",
    "else:\n",
    "    test = './major_revision/saved_models/cifar100_vgg11_wp/wp9_model_0_99.pth' \n",
    "\n",
    "CAM_similarity(v11_c100_rq, test, owner,owner,False, False, nl,l,a)"
   ]
  },
  {
   "cell_type": "code",
   "execution_count": 36,
   "metadata": {},
   "outputs": [
    {
     "name": "stdout",
     "output_type": "stream",
     "text": [
      "Correlation: [0.525]\n"
     ]
    }
   ],
   "source": [
    "d161_c100_rq_path = '/mnt/ssd1/zhengyue/Models/Target_models/cifar100-densenet161-183-best.pth'\n",
    "from models.densenet import densenet161\n",
    "d161_c100_rq = densenet161()\n",
    "d161_c100_rq.load_state_dict(torch.load(d161_c100_rq_path)) #c100_d161\n",
    "\n",
    "if fp:\n",
    "    test = './major_revision/saved_models/cifar100_densenet161_fp/fp12_model_0_99.pth' \n",
    "else:\n",
    "    test = './major_revision/saved_models/cifar100_densenet161_wp/wp9_model_0_99.pth' \n",
    "\n",
    "CAM_similarity(d161_c100_rq, test, owner,owner,False, False, nl,l,a)"
   ]
  },
  {
   "cell_type": "code",
   "execution_count": 37,
   "metadata": {},
   "outputs": [
    {
     "name": "stdout",
     "output_type": "stream",
     "text": [
      "Correlation: [0.869]\n"
     ]
    }
   ],
   "source": [
    "target = models['target_i10'][0] #i10_resnet18\n",
    "\n",
    "if fp:\n",
    "    test = './major_revision/saved_models/imagenet10_resnet18_fp/fp15_model_0_99.pth' \n",
    "else:\n",
    "    test = './major_revision/saved_models/imagenet10_resnet18_wp/wp9_model_0_99.pth'     \n",
    "    \n",
    "CAM_similarity(target, test, owner,owner,False, False, nl,l,a)"
   ]
  },
  {
   "cell_type": "code",
   "execution_count": 38,
   "metadata": {},
   "outputs": [
    {
     "name": "stdout",
     "output_type": "stream",
     "text": [
      "Correlation: [0.459]\n"
     ]
    }
   ],
   "source": [
    "target = models['target_i10'][1] #i10_vgg11\n",
    "if fp:\n",
    "    test = './major_revision/saved_models/imagenet10_vgg11_fp/fp13_model_0_99.pth' \n",
    "else:\n",
    "    test = './major_revision/saved_models/imagenet10_vgg11_wp/wp9_model_0_99.pth' \n",
    "    \n",
    "CAM_similarity(target, test, owner,owner,False, False, nl,l,a)"
   ]
  },
  {
   "cell_type": "code",
   "execution_count": 39,
   "metadata": {},
   "outputs": [
    {
     "name": "stdout",
     "output_type": "stream",
     "text": [
      "Correlation: [0.677]\n"
     ]
    }
   ],
   "source": [
    "target = models['target_i10'][2] #i10_densenet161\n",
    "\n",
    "if fp:\n",
    "    test = './major_revision/saved_models/imagenet10_densenet161_fp/fp15_model_0_99.pth' \n",
    "else:\n",
    "    test = './major_revision/saved_models/imagenet10_densenet161_wp/wp9_model_0_99.pth' \n",
    "\n",
    "CAM_similarity(target, test, owner,owner,False, False, nl,l,a)"
   ]
  },
  {
   "cell_type": "code",
   "execution_count": null,
   "metadata": {},
   "outputs": [],
   "source": []
  }
 ],
 "metadata": {
  "kernelspec": {
   "display_name": "Python 3",
   "language": "python",
   "name": "python3"
  },
  "language_info": {
   "codemirror_mode": {
    "name": "ipython",
    "version": 3
   },
   "file_extension": ".py",
   "mimetype": "text/x-python",
   "name": "python",
   "nbconvert_exporter": "python",
   "pygments_lexer": "ipython3",
   "version": "3.8.5"
  }
 },
 "nbformat": 4,
 "nbformat_minor": 4
}
